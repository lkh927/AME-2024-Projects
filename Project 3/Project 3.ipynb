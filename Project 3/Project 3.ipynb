{
 "cells": [
  {
   "cell_type": "markdown",
   "metadata": {},
   "source": [
    "# AME project 3\n"
   ]
  },
  {
   "cell_type": "markdown",
   "metadata": {},
   "source": [
    "# Racial differences in police use of force\n",
    "\n",
    "The goal of this project is to investigate whether there are racial differences in police use of force. We will analyse this issue based on three different binary response models: Linear Probaility Model (LPM), the Probit model, and the Logit model.\n",
    "Binary response models are relevant when the dependent variable $y$ has two possible outcomes, \n",
    "e.g., $y=1$ if a police encounter resulted in any use of force by the police officer(s), and $y=0$ if it does not.\n"
   ]
  },
  {
   "cell_type": "markdown",
   "metadata": {},
   "source": [
    "## Theory\n",
    "\n",
    "The binary response model assumes that the data generating process is \n",
    "$$\n",
    "\\begin{aligned}\n",
    "y_i^* &= \\mathbf{x}_i \\boldsymbol{\\beta} + u_i, \\\\ \n",
    "y_i   &= \\mathbf{1}(y_i^* > 0), \n",
    "\\end{aligned}\n",
    "$$\n",
    "where $u_i$ are distributed IID according to some cdf. $G$. \n",
    "\n",
    "In the lectures, it is shown that\n",
    "$$ p_i \\equiv \\Pr(y_i = 1| \\mathbf{x}_i) = G(\\mathbf{x}_i \\boldsymbol{\\beta}). $$ \n",
    "\n",
    "Since $y_i$ (conditioning on $\\mathbf{x}_i$) is Bernoulli-distributed with parameter $p_i$, its log-likelihood function is \n",
    "$$\n",
    "\\ell_i(\\theta) \n",
    "               = \\mathrm{1}(y_i = 1) \\log[ G(\\mathbf{x}_i \\boldsymbol{\\beta}) ]\n",
    "               + \\mathrm{1}(y_i = 0) \\log[1 - G(\\mathbf{x}_i \\boldsymbol{\\beta})]\n",
    "$$\n",
    "\n",
    "Estimation is then conducted by maximum likelihood, \n",
    "$$ \\hat{\\boldsymbol{\\theta}} = \\arg\\max_\\theta \\frac{1}{N} \\sum_{i=1}^N \\ell_i (\\theta), $$ \n",
    "which can be implemented as a minimizer in the usual $M$-framework with $q(\\theta, y_i, x_i) = -\\ell_i(\\theta)$, and then minimizing $Q(\\theta) = N^{-1} \\sum_i q(\\theta, y_i, x_i)$. \n",
    "\n",
    "We will consider two models: \n",
    "1. Probit: when $G$ is the standard normal CDF \n",
    "2. Logit: when $G$ is the standard logistic CDF. \n",
    "\n",
    "And we will be comparing them to OLS (which is called the Linear Probability Model, LPM, in a case like this where $y_i$ is binary). "
   ]
  },
  {
   "cell_type": "markdown",
   "metadata": {},
   "source": [
    "## Setup "
   ]
  },
  {
   "cell_type": "code",
   "execution_count": 1,
   "metadata": {},
   "outputs": [],
   "source": [
    "from sys import path\n",
    "\n",
    "import numpy as np\n",
    "import pandas as pd \n",
    "from scipy.stats import norm\n",
    "import matplotlib.pyplot as plt \n",
    "import seaborn as sns \n",
    "sns.set_theme()\n",
    "\n",
    "%load_ext autoreload\n",
    "%autoreload 2\n",
    "\n",
    "import estimation as est \n",
    "import LinearModel as lm\n",
    "import probit\n",
    "import logit"
   ]
  },
  {
   "cell_type": "markdown",
   "metadata": {},
   "source": [
    "## Data\n",
    "\n",
    "\n"
   ]
  },
  {
   "cell_type": "code",
   "execution_count": 2,
   "metadata": {},
   "outputs": [
    {
     "name": "stdout",
     "output_type": "stream",
     "text": [
      "The data contains 3799 rows (encounters) and 19 columns (variables).\n"
     ]
    }
   ],
   "source": [
    "dat = pd.read_csv('ppcs_cc.csv')\n",
    "print(f'The data contains {dat.shape[0]} rows (encounters) and {dat.shape[1]} columns (variables).')"
   ]
  },
  {
   "cell_type": "code",
   "execution_count": 3,
   "metadata": {},
   "outputs": [
    {
     "name": "stdout",
     "output_type": "stream",
     "text": [
      "            sblack        shisp       swhite       sother        smale  \\\n",
      "count  3799.000000  3799.000000  3799.000000  3799.000000  3799.000000   \n",
      "mean      0.110555     0.101606     0.739142     0.048697     0.529613   \n",
      "std       0.313622     0.302169     0.439160     0.215262     0.499188   \n",
      "min       0.000000     0.000000     0.000000     0.000000     0.000000   \n",
      "25%       0.000000     0.000000     0.000000     0.000000     0.000000   \n",
      "50%       0.000000     0.000000     1.000000     0.000000     1.000000   \n",
      "75%       0.000000     0.000000     1.000000     0.000000     1.000000   \n",
      "max       1.000000     1.000000     1.000000     1.000000     1.000000   \n",
      "\n",
      "              sage        sempl      sincome         spop      daytime  \\\n",
      "count  3799.000000  3799.000000  3799.000000  3799.000000  3799.000000   \n",
      "mean     41.010003     0.695446     2.164780     1.362727     0.666491   \n",
      "std      16.146916     0.460279     0.848262     0.765598     0.471529   \n",
      "min      16.000000     0.000000     1.000000     1.000000     0.000000   \n",
      "25%      27.000000     0.000000     1.000000     1.000000     0.000000   \n",
      "50%      40.000000     1.000000     2.000000     1.000000     1.000000   \n",
      "75%      52.000000     1.000000     3.000000     1.000000     1.000000   \n",
      "max      90.000000     1.000000     3.000000     4.000000     1.000000   \n",
      "\n",
      "       inctype_lin    omajblack     omajhisp    omajwhite    omajother  \\\n",
      "count  3799.000000  3799.000000  3799.000000  3799.000000  3799.000000   \n",
      "mean      1.958410     0.060805     0.023954     0.903659     0.011582   \n",
      "std       0.199676     0.239005     0.152925     0.295097     0.107009   \n",
      "min       1.000000     0.000000     0.000000     0.000000     0.000000   \n",
      "25%       2.000000     0.000000     0.000000     1.000000     0.000000   \n",
      "50%       2.000000     0.000000     0.000000     1.000000     0.000000   \n",
      "75%       2.000000     0.000000     0.000000     1.000000     0.000000   \n",
      "max       2.000000     1.000000     1.000000     1.000000     1.000000   \n",
      "\n",
      "       osplit    sbehavior    year  anyuseofforce_coded  \n",
      "count  3799.0  3799.000000  3799.0          3799.000000  \n",
      "mean      0.0     0.065017  2011.0             0.005001  \n",
      "std       0.0     0.246589     0.0             0.070552  \n",
      "min       0.0     0.000000  2011.0             0.000000  \n",
      "25%       0.0     0.000000  2011.0             0.000000  \n",
      "50%       0.0     0.000000  2011.0             0.000000  \n",
      "75%       0.0     0.000000  2011.0             0.000000  \n",
      "max       0.0     1.000000  2011.0             1.000000  \n",
      "Possible values of each variable:\n",
      "sblack: [1 0]\n",
      "shisp: [0 1]\n",
      "swhite: [0 1]\n",
      "sother: [0 1]\n",
      "smale: [1 0]\n",
      "sage: [18 20 22 29 28 26 25 30 41 44 47 48 52 16 17 19 21 24 23 27 31 32 33 34\n",
      " 35 39 37 36 40 43 42 46 45 53 50 51 54 59 57 58 55 56 61 60 63 64 62 69\n",
      " 68 66 71 72 90 78 83 38 49 65 70 73 74 85 77 81 80 76 67 79 86 75 84 82\n",
      " 88 89]\n",
      "sempl: [0 1]\n",
      "sincome: [1 2 3]\n",
      "spop: [1 4 3 2]\n",
      "daytime: [1 0]\n",
      "inctype_lin: [2 1]\n",
      "omajblack: [0 1]\n",
      "omajhisp: [0 1]\n",
      "omajwhite: [1 0]\n",
      "omajother: [0 1]\n",
      "osplit: [0]\n",
      "sbehavior: [0 1]\n",
      "year: [2011]\n",
      "anyuseofforce_coded: [0 1]\n"
     ]
    }
   ],
   "source": [
    "#Summary statistics for variables  \n",
    "print(dat.describe())\n",
    "\n",
    "#Possible values of each variable\n",
    "print('Possible values of each variable:')\n",
    "for col in dat.columns:\n",
    "    print(f'{col}: {dat[col].unique()}')\n"
   ]
  },
  {
   "cell_type": "code",
   "execution_count": 22,
   "metadata": {},
   "outputs": [
    {
     "name": "stdout",
     "output_type": "stream",
     "text": [
      "The data now contains 3799 rows (encounters) and 20 columns (variables).\n",
      "            sblack        shisp       swhite       sother        smale  \\\n",
      "count  3799.000000  3799.000000  3799.000000  3799.000000  3799.000000   \n",
      "mean      0.110555     0.101606     0.739142     0.048697     0.529613   \n",
      "std       0.313622     0.302169     0.439160     0.215262     0.499188   \n",
      "min       0.000000     0.000000     0.000000     0.000000     0.000000   \n",
      "25%       0.000000     0.000000     0.000000     0.000000     0.000000   \n",
      "50%       0.000000     0.000000     1.000000     0.000000     1.000000   \n",
      "75%       0.000000     0.000000     1.000000     0.000000     1.000000   \n",
      "max       1.000000     1.000000     1.000000     1.000000     1.000000   \n",
      "\n",
      "              sage        sempl      daytime    omajblack     omajhisp  \\\n",
      "count  3799.000000  3799.000000  3799.000000  3799.000000  3799.000000   \n",
      "mean     41.010003     0.695446     0.666491     0.060805     0.023954   \n",
      "std      16.146916     0.460279     0.471529     0.239005     0.152925   \n",
      "min      16.000000     0.000000     0.000000     0.000000     0.000000   \n",
      "25%      27.000000     0.000000     0.000000     0.000000     0.000000   \n",
      "50%      40.000000     1.000000     1.000000     0.000000     0.000000   \n",
      "75%      52.000000     1.000000     1.000000     0.000000     0.000000   \n",
      "max      90.000000     1.000000     1.000000     1.000000     1.000000   \n",
      "\n",
      "         omajwhite    omajother    sbehavior  anyuseofforce_coded  \\\n",
      "count  3799.000000  3799.000000  3799.000000          3799.000000   \n",
      "mean      0.903659     0.011582     0.065017             0.005001   \n",
      "std       0.295097     0.107009     0.246589             0.070552   \n",
      "min       0.000000     0.000000     0.000000             0.000000   \n",
      "25%       1.000000     0.000000     0.000000             0.000000   \n",
      "50%       1.000000     0.000000     0.000000             0.000000   \n",
      "75%       1.000000     0.000000     0.000000             0.000000   \n",
      "max       1.000000     1.000000     1.000000             1.000000   \n",
      "\n",
      "       traffic_stop  sincome_20-50  sincome_above50  spop_100-499  \\\n",
      "count   3799.000000    3799.000000      3799.000000   3799.000000   \n",
      "mean       0.958410       0.253488         0.455646      0.145301   \n",
      "std        0.199676       0.435065         0.498094      0.352451   \n",
      "min        0.000000       0.000000         0.000000      0.000000   \n",
      "25%        1.000000       0.000000         0.000000      0.000000   \n",
      "50%        1.000000       0.000000         0.000000      0.000000   \n",
      "75%        1.000000       1.000000         1.000000      0.000000   \n",
      "max        1.000000       1.000000         1.000000      1.000000   \n",
      "\n",
      "       spop_500-999  spop_above1000  \n",
      "count   3799.000000     3799.000000  \n",
      "mean       0.040011        0.045802  \n",
      "std        0.196010        0.209082  \n",
      "min        0.000000        0.000000  \n",
      "25%        0.000000        0.000000  \n",
      "50%        0.000000        0.000000  \n",
      "75%        0.000000        0.000000  \n",
      "max        1.000000        1.000000  \n",
      "Possible values of each variable:\n",
      "sblack: [1 0]\n",
      "shisp: [0 1]\n",
      "swhite: [0 1]\n",
      "sother: [0 1]\n",
      "smale: [1 0]\n",
      "sage: [18 20 22 29 28 26 25 30 41 44 47 48 52 16 17 19 21 24 23 27 31 32 33 34\n",
      " 35 39 37 36 40 43 42 46 45 53 50 51 54 59 57 58 55 56 61 60 63 64 62 69\n",
      " 68 66 71 72 90 78 83 38 49 65 70 73 74 85 77 81 80 76 67 79 86 75 84 82\n",
      " 88 89]\n",
      "sempl: [0 1]\n",
      "daytime: [1 0]\n",
      "omajblack: [0 1]\n",
      "omajhisp: [0 1]\n",
      "omajwhite: [1 0]\n",
      "omajother: [0 1]\n",
      "sbehavior: [0 1]\n",
      "anyuseofforce_coded: [0 1]\n",
      "traffic_stop: [1 0]\n",
      "sincome_20-50: [0 1]\n",
      "sincome_above50: [0 1]\n",
      "spop_100-499: [0 1]\n",
      "spop_500-999: [0 1]\n",
      "spop_above1000: [0 1]\n"
     ]
    }
   ],
   "source": [
    "#Exclude the variables with zero variance\n",
    "data = dat.drop(columns=['osplit', 'year'])\n",
    "\n",
    "#Transform the variables 'sincome', 'spop', 'inctype_lin' to dummy variables\n",
    "data = pd.get_dummies(data, columns=['inctype_lin', 'sincome', 'spop'], drop_first=True, dtype=int)\n",
    "\n",
    "#Adjust names of new dummies\n",
    "data.rename(columns={'inctype_lin_2': 'traffic_stop', 'sincome_2': 'sincome_20-50', 'sincome_3': 'sincome_above50', 'spop_2': 'spop_100-499', 'spop_3':'spop_500-999', 'spop_4': 'spop_above1000' }, inplace=True)\n",
    "\n",
    "print(f'The data now contains {data.shape[0]} rows (encounters) and {data.shape[1]} columns (variables).')\n",
    "\n",
    "#Summary statistics for variables  \n",
    "print(data.describe())\n",
    "\n",
    "print('Possible values of each variable:')\n",
    "for col in data.columns:\n",
    "    print(f'{col}: {data[col].unique()}')\n"
   ]
  },
  {
   "cell_type": "code",
   "execution_count": 30,
   "metadata": {},
   "outputs": [],
   "source": [
    "# Declare labels (BEMÆRK: VI KAN IKKE INKLUDERE ALLE VARIABLE DA PROBIT OG LOGIT MODELLERNE ELLERS IKKE KONVERGERER)\n",
    "y_lab = 'anyuseofforce_coded' # dependent variable\n",
    "x_lab = ['const', \n",
    "         'swhite', 'shisp','sother', #sblack is the reference category\n",
    "         'smale', 'sempl', 'sbehavior',\n",
    "      #   'sage', 'sagesq',\n",
    "      #   'sincome_20-50', 'sincome_above50', #sincome_0-20 is the reference category\n",
    "      #   'spop_100-499', 'spop_500-999', 'spop_above1000', #spop_0-100 is the reference category\n",
    "         'omajwhite', #'omajhisp', 'omajother', \n",
    "         'daytime', 'traffic_stop'\n",
    "        ]"
   ]
  },
  {
   "cell_type": "code",
   "execution_count": 31,
   "metadata": {},
   "outputs": [
    {
     "data": {
      "text/html": [
       "<div>\n",
       "<style scoped>\n",
       "    .dataframe tbody tr th:only-of-type {\n",
       "        vertical-align: middle;\n",
       "    }\n",
       "\n",
       "    .dataframe tbody tr th {\n",
       "        vertical-align: top;\n",
       "    }\n",
       "\n",
       "    .dataframe thead th {\n",
       "        text-align: right;\n",
       "    }\n",
       "</style>\n",
       "<table border=\"1\" class=\"dataframe\">\n",
       "  <thead>\n",
       "    <tr style=\"text-align: right;\">\n",
       "      <th></th>\n",
       "      <th>anyuseofforce_coded</th>\n",
       "      <th>const</th>\n",
       "      <th>swhite</th>\n",
       "      <th>shisp</th>\n",
       "      <th>sother</th>\n",
       "      <th>smale</th>\n",
       "      <th>sempl</th>\n",
       "      <th>sbehavior</th>\n",
       "      <th>omajwhite</th>\n",
       "      <th>daytime</th>\n",
       "      <th>traffic_stop</th>\n",
       "    </tr>\n",
       "  </thead>\n",
       "  <tbody>\n",
       "    <tr>\n",
       "      <th>0</th>\n",
       "      <td>0</td>\n",
       "      <td>1.0</td>\n",
       "      <td>0</td>\n",
       "      <td>0</td>\n",
       "      <td>0</td>\n",
       "      <td>1</td>\n",
       "      <td>0</td>\n",
       "      <td>0</td>\n",
       "      <td>1</td>\n",
       "      <td>1</td>\n",
       "      <td>1</td>\n",
       "    </tr>\n",
       "    <tr>\n",
       "      <th>1</th>\n",
       "      <td>0</td>\n",
       "      <td>1.0</td>\n",
       "      <td>0</td>\n",
       "      <td>0</td>\n",
       "      <td>0</td>\n",
       "      <td>1</td>\n",
       "      <td>1</td>\n",
       "      <td>0</td>\n",
       "      <td>1</td>\n",
       "      <td>0</td>\n",
       "      <td>1</td>\n",
       "    </tr>\n",
       "    <tr>\n",
       "      <th>2</th>\n",
       "      <td>0</td>\n",
       "      <td>1.0</td>\n",
       "      <td>0</td>\n",
       "      <td>0</td>\n",
       "      <td>0</td>\n",
       "      <td>1</td>\n",
       "      <td>1</td>\n",
       "      <td>0</td>\n",
       "      <td>1</td>\n",
       "      <td>1</td>\n",
       "      <td>1</td>\n",
       "    </tr>\n",
       "    <tr>\n",
       "      <th>3</th>\n",
       "      <td>0</td>\n",
       "      <td>1.0</td>\n",
       "      <td>0</td>\n",
       "      <td>0</td>\n",
       "      <td>0</td>\n",
       "      <td>1</td>\n",
       "      <td>1</td>\n",
       "      <td>0</td>\n",
       "      <td>1</td>\n",
       "      <td>1</td>\n",
       "      <td>1</td>\n",
       "    </tr>\n",
       "    <tr>\n",
       "      <th>4</th>\n",
       "      <td>0</td>\n",
       "      <td>1.0</td>\n",
       "      <td>0</td>\n",
       "      <td>0</td>\n",
       "      <td>0</td>\n",
       "      <td>1</td>\n",
       "      <td>1</td>\n",
       "      <td>0</td>\n",
       "      <td>1</td>\n",
       "      <td>1</td>\n",
       "      <td>1</td>\n",
       "    </tr>\n",
       "  </tbody>\n",
       "</table>\n",
       "</div>"
      ],
      "text/plain": [
       "   anyuseofforce_coded  const  swhite  shisp  sother  smale  sempl  sbehavior  \\\n",
       "0                    0    1.0       0      0       0      1      0          0   \n",
       "1                    0    1.0       0      0       0      1      1          0   \n",
       "2                    0    1.0       0      0       0      1      1          0   \n",
       "3                    0    1.0       0      0       0      1      1          0   \n",
       "4                    0    1.0       0      0       0      1      1          0   \n",
       "\n",
       "   omajwhite  daytime  traffic_stop  \n",
       "0          1        1             1  \n",
       "1          1        0             1  \n",
       "2          1        1             1  \n",
       "3          1        1             1  \n",
       "4          1        1             1  "
      ]
     },
     "execution_count": 31,
     "metadata": {},
     "output_type": "execute_result"
    }
   ],
   "source": [
    "N = data.shape[0]\n",
    "\n",
    "# create extra variables \n",
    "data['const'] = np.ones((N,))\n",
    "#data['sagesq'] = data.sage * data.sage\n",
    "\n",
    "# reorder columns \n",
    "data = data[[y_lab] + x_lab].copy()\n",
    "\n",
    "data.head(5)"
   ]
  },
  {
   "cell_type": "code",
   "execution_count": 32,
   "metadata": {},
   "outputs": [],
   "source": [
    "y = data[y_lab].values\n",
    "x = data[x_lab].values\n",
    "K = x.shape[1]"
   ]
  },
  {
   "cell_type": "markdown",
   "metadata": {},
   "source": [
    "# Question 1: Estimate model using LPM\n",
    "We model Labour participation of females using an LPM model, which we estimate using OLS. Use the given `lm` module, and print it out in a nice table. Remember to use heteroscedasticity-robust standard errors. "
   ]
  },
  {
   "cell_type": "code",
   "execution_count": 33,
   "metadata": {},
   "outputs": [
    {
     "name": "stdout",
     "output_type": "stream",
     "text": [
      "LPM results\n",
      "Dependent variable: anyuseofforce_coded\n",
      "\n",
      "R2 = 0.030\n",
      "sigma2 = nan\n"
     ]
    },
    {
     "data": {
      "text/html": [
       "<div>\n",
       "<style scoped>\n",
       "    .dataframe tbody tr th:only-of-type {\n",
       "        vertical-align: middle;\n",
       "    }\n",
       "\n",
       "    .dataframe tbody tr th {\n",
       "        vertical-align: top;\n",
       "    }\n",
       "\n",
       "    .dataframe thead th {\n",
       "        text-align: right;\n",
       "    }\n",
       "</style>\n",
       "<table border=\"1\" class=\"dataframe\">\n",
       "  <thead>\n",
       "    <tr style=\"text-align: right;\">\n",
       "      <th></th>\n",
       "      <th>b_hat</th>\n",
       "      <th>se</th>\n",
       "      <th>t</th>\n",
       "    </tr>\n",
       "  </thead>\n",
       "  <tbody>\n",
       "    <tr>\n",
       "      <th>const</th>\n",
       "      <td>0.0318</td>\n",
       "      <td>0.0162</td>\n",
       "      <td>1.9655</td>\n",
       "    </tr>\n",
       "    <tr>\n",
       "      <th>swhite</th>\n",
       "      <td>-0.0038</td>\n",
       "      <td>0.0045</td>\n",
       "      <td>-0.8432</td>\n",
       "    </tr>\n",
       "    <tr>\n",
       "      <th>shisp</th>\n",
       "      <td>0.0076</td>\n",
       "      <td>0.0075</td>\n",
       "      <td>1.0146</td>\n",
       "    </tr>\n",
       "    <tr>\n",
       "      <th>sother</th>\n",
       "      <td>-0.0027</td>\n",
       "      <td>0.0068</td>\n",
       "      <td>-0.3877</td>\n",
       "    </tr>\n",
       "    <tr>\n",
       "      <th>smale</th>\n",
       "      <td>0.0042</td>\n",
       "      <td>0.0022</td>\n",
       "      <td>1.8663</td>\n",
       "    </tr>\n",
       "    <tr>\n",
       "      <th>sempl</th>\n",
       "      <td>-0.0042</td>\n",
       "      <td>0.0029</td>\n",
       "      <td>-1.4578</td>\n",
       "    </tr>\n",
       "    <tr>\n",
       "      <th>sbehavior</th>\n",
       "      <td>0.0355</td>\n",
       "      <td>0.0123</td>\n",
       "      <td>2.8920</td>\n",
       "    </tr>\n",
       "    <tr>\n",
       "      <th>omajwhite</th>\n",
       "      <td>0.0039</td>\n",
       "      <td>0.0031</td>\n",
       "      <td>1.2620</td>\n",
       "    </tr>\n",
       "    <tr>\n",
       "      <th>daytime</th>\n",
       "      <td>-0.0021</td>\n",
       "      <td>0.0029</td>\n",
       "      <td>-0.7475</td>\n",
       "    </tr>\n",
       "    <tr>\n",
       "      <th>traffic_stop</th>\n",
       "      <td>-0.0295</td>\n",
       "      <td>0.0151</td>\n",
       "      <td>-1.9493</td>\n",
       "    </tr>\n",
       "  </tbody>\n",
       "</table>\n",
       "</div>"
      ],
      "text/plain": [
       "               b_hat      se       t\n",
       "const         0.0318  0.0162  1.9655\n",
       "swhite       -0.0038  0.0045 -0.8432\n",
       "shisp         0.0076  0.0075  1.0146\n",
       "sother       -0.0027  0.0068 -0.3877\n",
       "smale         0.0042  0.0022  1.8663\n",
       "sempl        -0.0042  0.0029 -1.4578\n",
       "sbehavior     0.0355  0.0123  2.8920\n",
       "omajwhite     0.0039  0.0031  1.2620\n",
       "daytime      -0.0021  0.0029 -0.7475\n",
       "traffic_stop -0.0295  0.0151 -1.9493"
      ]
     },
     "execution_count": 33,
     "metadata": {},
     "output_type": "execute_result"
    }
   ],
   "source": [
    "ols_results = lm.estimate(y, x, robust_se=True)\n",
    "ols_tab = lm.print_table((y_lab, x_lab), ols_results, title='LPM results')\n",
    "ols_tab"
   ]
  },
  {
   "cell_type": "markdown",
   "metadata": {},
   "source": [
    "# The Probit model\n",
    "\n",
    "The Probit model has the link function \n",
    "$$G^{\\text{probit}}(\\mathbf{x}_i \\boldsymbol{\\beta}) \n",
    "    =\\Phi(\\mathbf{x}_i \\boldsymbol{\\beta})\n",
    "    \\equiv \\int_{-\\infty}^{\\mathbf{x}_i \\boldsymbol{\\beta}}\\phi\\left(z\\right) \\, \\mathrm{d} z$$\n",
    "\n",
    "$\\phi\\left(z\\right)= (2 \\pi)^{-\\frac12}\\exp(\\frac{-z^{2}}{2})$ is the standard normal pdf. As starting values, we can use OLS estimates: $\\boldsymbol{\\theta} = 2.5\\hat{\\boldsymbol{\\beta}}^{OLS}$, as will become clear later.) "
   ]
  },
  {
   "cell_type": "code",
   "execution_count": 34,
   "metadata": {},
   "outputs": [
    {
     "data": {
      "text/plain": [
       "array([ 0.07942711, -0.00944949,  0.01893092, -0.00662781,  0.01041014,\n",
       "       -0.01051959,  0.08882608,  0.00968295, -0.00537087, -0.07375052])"
      ]
     },
     "execution_count": 34,
     "metadata": {},
     "output_type": "execute_result"
    }
   ],
   "source": [
    "theta0 = probit.starting_values(y, x)\n",
    "theta0"
   ]
  },
  {
   "cell_type": "code",
   "execution_count": 35,
   "metadata": {},
   "outputs": [
    {
     "name": "stdout",
     "output_type": "stream",
     "text": [
      "Optimization terminated successfully.\n",
      "         Current function value: 0.023693\n",
      "         Iterations: 94\n",
      "         Function evaluations: 1045\n",
      "         Gradient evaluations: 95\n"
     ]
    }
   ],
   "source": [
    "probit_results = est.estimate(probit.q, theta0, y, x)"
   ]
  },
  {
   "cell_type": "code",
   "execution_count": 36,
   "metadata": {},
   "outputs": [
    {
     "name": "stdout",
     "output_type": "stream",
     "text": [
      "Optimizer succeded after 94 iter. (1045 func. evals.). Final criterion:  0.02369.\n",
      "Probit, y = anyuseofforce_coded\n"
     ]
    },
    {
     "data": {
      "text/html": [
       "<div>\n",
       "<style scoped>\n",
       "    .dataframe tbody tr th:only-of-type {\n",
       "        vertical-align: middle;\n",
       "    }\n",
       "\n",
       "    .dataframe tbody tr th {\n",
       "        vertical-align: top;\n",
       "    }\n",
       "\n",
       "    .dataframe thead th {\n",
       "        text-align: right;\n",
       "    }\n",
       "</style>\n",
       "<table border=\"1\" class=\"dataframe\">\n",
       "  <thead>\n",
       "    <tr style=\"text-align: right;\">\n",
       "      <th></th>\n",
       "      <th>theta</th>\n",
       "      <th>se</th>\n",
       "      <th>t</th>\n",
       "    </tr>\n",
       "  </thead>\n",
       "  <tbody>\n",
       "    <tr>\n",
       "      <th>const</th>\n",
       "      <td>-2.4895</td>\n",
       "      <td>0.8284</td>\n",
       "      <td>-3.0050</td>\n",
       "    </tr>\n",
       "    <tr>\n",
       "      <th>swhite</th>\n",
       "      <td>-0.3214</td>\n",
       "      <td>0.3321</td>\n",
       "      <td>-0.9677</td>\n",
       "    </tr>\n",
       "    <tr>\n",
       "      <th>shisp</th>\n",
       "      <td>0.2518</td>\n",
       "      <td>0.3875</td>\n",
       "      <td>0.6499</td>\n",
       "    </tr>\n",
       "    <tr>\n",
       "      <th>sother</th>\n",
       "      <td>-0.1615</td>\n",
       "      <td>0.5244</td>\n",
       "      <td>-0.3079</td>\n",
       "    </tr>\n",
       "    <tr>\n",
       "      <th>smale</th>\n",
       "      <td>0.5217</td>\n",
       "      <td>0.3497</td>\n",
       "      <td>1.4918</td>\n",
       "    </tr>\n",
       "    <tr>\n",
       "      <th>sempl</th>\n",
       "      <td>-0.3252</td>\n",
       "      <td>0.2181</td>\n",
       "      <td>-1.4908</td>\n",
       "    </tr>\n",
       "    <tr>\n",
       "      <th>sbehavior</th>\n",
       "      <td>1.0718</td>\n",
       "      <td>0.2470</td>\n",
       "      <td>4.3391</td>\n",
       "    </tr>\n",
       "    <tr>\n",
       "      <th>omajwhite</th>\n",
       "      <td>0.4799</td>\n",
       "      <td>0.7749</td>\n",
       "      <td>0.6193</td>\n",
       "    </tr>\n",
       "    <tr>\n",
       "      <th>daytime</th>\n",
       "      <td>-0.2045</td>\n",
       "      <td>0.2624</td>\n",
       "      <td>-0.7791</td>\n",
       "    </tr>\n",
       "    <tr>\n",
       "      <th>traffic_stop</th>\n",
       "      <td>-0.7643</td>\n",
       "      <td>0.2673</td>\n",
       "      <td>-2.8597</td>\n",
       "    </tr>\n",
       "  </tbody>\n",
       "</table>\n",
       "</div>"
      ],
      "text/plain": [
       "               theta      se       t\n",
       "const        -2.4895  0.8284 -3.0050\n",
       "swhite       -0.3214  0.3321 -0.9677\n",
       "shisp         0.2518  0.3875  0.6499\n",
       "sother       -0.1615  0.5244 -0.3079\n",
       "smale         0.5217  0.3497  1.4918\n",
       "sempl        -0.3252  0.2181 -1.4908\n",
       "sbehavior     1.0718  0.2470  4.3391\n",
       "omajwhite     0.4799  0.7749  0.6193\n",
       "daytime      -0.2045  0.2624 -0.7791\n",
       "traffic_stop -0.7643  0.2673 -2.8597"
      ]
     },
     "execution_count": 36,
     "metadata": {},
     "output_type": "execute_result"
    }
   ],
   "source": [
    "probit_tab = est.print_table(x_lab, probit_results, title=f'Probit, y = {y_lab}')\n",
    "probit_tab"
   ]
  },
  {
   "cell_type": "code",
   "execution_count": null,
   "metadata": {},
   "outputs": [
    {
     "data": {
      "text/plain": [
       "0.005027919096513242"
      ]
     },
     "execution_count": 37,
     "metadata": {},
     "output_type": "execute_result"
    }
   ],
   "source": [
    "probit.G(x @ probit_results['theta']).mean()"
   ]
  },
  {
   "cell_type": "markdown",
   "metadata": {},
   "source": [
    "What is the interpretation of $\\bar{G(\\mathbf{x}\\boldsymbol{\\beta})}$?\n",
    "\n",
    "Answer: it is the mean predicted value of police use of force"
   ]
  },
  {
   "cell_type": "markdown",
   "metadata": {},
   "source": [
    "## The Logit Model\n",
    "\n",
    "For the Logit model, the link function is \n",
    "\n",
    "$$G^{\\text{logit}}( \\mathbf{x}_i \\boldsymbol{\\beta} ) = \\Lambda(\\mathbf{x}_i \\boldsymbol{\\beta}) \\equiv  \\frac{\\exp(\\mathbf{x}_i \\boldsymbol{\\beta})}{1+\\exp(\\mathbf{x}_i \\boldsymbol{\\beta})}= \\frac{1}{1+\\exp(-\\mathbf{x}_i \\boldsymbol{\\beta})} \\tag{2}$$"
   ]
  },
  {
   "cell_type": "code",
   "execution_count": 38,
   "metadata": {},
   "outputs": [
    {
     "data": {
      "text/plain": [
       "array([ 0.12708338, -0.01511918,  0.03028947, -0.01060449,  0.01665622,\n",
       "       -0.01683135,  0.14212173,  0.01549271, -0.00859339, -0.11800083])"
      ]
     },
     "execution_count": 38,
     "metadata": {},
     "output_type": "execute_result"
    }
   ],
   "source": [
    "theta0 = logit.starting_values(y, x)\n",
    "theta0 "
   ]
  },
  {
   "cell_type": "code",
   "execution_count": 39,
   "metadata": {},
   "outputs": [
    {
     "name": "stdout",
     "output_type": "stream",
     "text": [
      "Optimization terminated successfully.\n",
      "         Current function value: 0.024060\n",
      "         Iterations: 106\n",
      "         Function evaluations: 1177\n",
      "         Gradient evaluations: 107\n"
     ]
    }
   ],
   "source": [
    "logit_results = est.estimate(logit.q, theta0, y, x)"
   ]
  },
  {
   "cell_type": "code",
   "execution_count": 40,
   "metadata": {},
   "outputs": [
    {
     "name": "stdout",
     "output_type": "stream",
     "text": [
      "Optimizer succeded after 106 iter. (1177 func. evals.). Final criterion:  0.02406.\n",
      "Logit, y = anyuseofforce_coded\n"
     ]
    },
    {
     "data": {
      "text/html": [
       "<div>\n",
       "<style scoped>\n",
       "    .dataframe tbody tr th:only-of-type {\n",
       "        vertical-align: middle;\n",
       "    }\n",
       "\n",
       "    .dataframe tbody tr th {\n",
       "        vertical-align: top;\n",
       "    }\n",
       "\n",
       "    .dataframe thead th {\n",
       "        text-align: right;\n",
       "    }\n",
       "</style>\n",
       "<table border=\"1\" class=\"dataframe\">\n",
       "  <thead>\n",
       "    <tr style=\"text-align: right;\">\n",
       "      <th></th>\n",
       "      <th>theta</th>\n",
       "      <th>se</th>\n",
       "      <th>t</th>\n",
       "    </tr>\n",
       "  </thead>\n",
       "  <tbody>\n",
       "    <tr>\n",
       "      <th>const</th>\n",
       "      <td>-4.8524</td>\n",
       "      <td>1.7828</td>\n",
       "      <td>-2.7217</td>\n",
       "    </tr>\n",
       "    <tr>\n",
       "      <th>swhite</th>\n",
       "      <td>-0.8197</td>\n",
       "      <td>0.8370</td>\n",
       "      <td>-0.9793</td>\n",
       "    </tr>\n",
       "    <tr>\n",
       "      <th>shisp</th>\n",
       "      <td>0.5725</td>\n",
       "      <td>0.8857</td>\n",
       "      <td>0.6464</td>\n",
       "    </tr>\n",
       "    <tr>\n",
       "      <th>sother</th>\n",
       "      <td>-0.4807</td>\n",
       "      <td>1.3501</td>\n",
       "      <td>-0.3561</td>\n",
       "    </tr>\n",
       "    <tr>\n",
       "      <th>smale</th>\n",
       "      <td>1.1402</td>\n",
       "      <td>0.7959</td>\n",
       "      <td>1.4327</td>\n",
       "    </tr>\n",
       "    <tr>\n",
       "      <th>sempl</th>\n",
       "      <td>-0.7822</td>\n",
       "      <td>0.5241</td>\n",
       "      <td>-1.4924</td>\n",
       "    </tr>\n",
       "    <tr>\n",
       "      <th>sbehavior</th>\n",
       "      <td>2.5689</td>\n",
       "      <td>0.5703</td>\n",
       "      <td>4.5045</td>\n",
       "    </tr>\n",
       "    <tr>\n",
       "      <th>omajwhite</th>\n",
       "      <td>0.9362</td>\n",
       "      <td>1.5807</td>\n",
       "      <td>0.5923</td>\n",
       "    </tr>\n",
       "    <tr>\n",
       "      <th>daytime</th>\n",
       "      <td>-0.5391</td>\n",
       "      <td>0.6151</td>\n",
       "      <td>-0.8764</td>\n",
       "    </tr>\n",
       "    <tr>\n",
       "      <th>traffic_stop</th>\n",
       "      <td>-1.7334</td>\n",
       "      <td>0.6005</td>\n",
       "      <td>-2.8864</td>\n",
       "    </tr>\n",
       "  </tbody>\n",
       "</table>\n",
       "</div>"
      ],
      "text/plain": [
       "               theta      se       t\n",
       "const        -4.8524  1.7828 -2.7217\n",
       "swhite       -0.8197  0.8370 -0.9793\n",
       "shisp         0.5725  0.8857  0.6464\n",
       "sother       -0.4807  1.3501 -0.3561\n",
       "smale         1.1402  0.7959  1.4327\n",
       "sempl        -0.7822  0.5241 -1.4924\n",
       "sbehavior     2.5689  0.5703  4.5045\n",
       "omajwhite     0.9362  1.5807  0.5923\n",
       "daytime      -0.5391  0.6151 -0.8764\n",
       "traffic_stop -1.7334  0.6005 -2.8864"
      ]
     },
     "execution_count": 40,
     "metadata": {},
     "output_type": "execute_result"
    }
   ],
   "source": [
    "logit_tab = est.print_table(x_lab, logit_results, title=f'Logit, y = {y_lab}')\n",
    "logit_tab"
   ]
  }
 ],
 "metadata": {
  "kernelspec": {
   "display_name": "base",
   "language": "python",
   "name": "python3"
  },
  "language_info": {
   "codemirror_mode": {
    "name": "ipython",
    "version": 3
   },
   "file_extension": ".py",
   "mimetype": "text/x-python",
   "name": "python",
   "nbconvert_exporter": "python",
   "pygments_lexer": "ipython3",
   "version": "3.11.9"
  }
 },
 "nbformat": 4,
 "nbformat_minor": 2
}
