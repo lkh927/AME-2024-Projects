{
 "cells": [
  {
   "cell_type": "markdown",
   "metadata": {},
   "source": [
    "# **Project 1: Linear Panel Data and Production Technology**\n",
    "\n",
    "By Emma Knippel, Anna Abildskov and Oscar Nyholm"
   ]
  },
  {
   "cell_type": "markdown",
   "metadata": {},
   "source": [
    "**Table of contents**\n",
    "* [Setup](#toc0_)\n",
    "\n",
    "* [Read and clean data](#toc2_) \n",
    "\n",
    "* [FE estimation of $\\beta_K$ and $\\beta_L$](#toc3_)    \n",
    "\n",
    "* [Test for constant returns to scale](#toc4_)    \n",
    "\n",
    "* [Conclusion](#toc5_)   "
   ]
  },
  {
   "cell_type": "markdown",
   "metadata": {},
   "source": [
    "## <a id='toc0_'><a>[Setup](#toc0_)"
   ]
  },
  {
   "cell_type": "code",
   "execution_count": 22,
   "metadata": {},
   "outputs": [
    {
     "name": "stdout",
     "output_type": "stream",
     "text": [
      "The autoreload extension is already loaded. To reload it, use:\n",
      "  %reload_ext autoreload\n"
     ]
    }
   ],
   "source": [
    "import numpy as np\n",
    "from numpy import linalg as la\n",
    "import pandas as pd\n",
    "from scipy.stats import chi2\n",
    "\n",
    "#Supress Future Warnings\n",
    "import warnings\n",
    "warnings.simplefilter(action='ignore', category=FutureWarning)\n",
    "\n",
    "#Import our py-file\n",
    "import Project_1 as pf\n",
    "\n",
    "# autoreload modules when code is run\n",
    "%load_ext autoreload\n",
    "%autoreload 2"
   ]
  },
  {
   "cell_type": "markdown",
   "metadata": {},
   "source": [
    "## <a id='toc2_'></a>[Read and clean data](#toc2_)"
   ]
  },
  {
   "cell_type": "markdown",
   "metadata": {},
   "source": [
    "The dataset contains `N = 441` firms observed over `T = 12` years, 1968-1979. There variables are: \n",
    "* `lcap`: Log of capital stock, $k_{it}$ \n",
    "* `lemp`: log of employment, $\\ell_{it}$ \n",
    "* `ldsa`: log of deflated sales, $y_{it}$\n",
    "* `year`: the calendar year of the observation, `year` $ = 1968, ..., 1979$, \n",
    "* `firmid`: anonymized indicator variable for the firm, $i = 1, ..., N$, with $N=441$. "
   ]
  },
  {
   "cell_type": "markdown",
   "metadata": {},
   "source": [
    "Loading the data and dropping all the even years, leaving us with only odd year-observations:"
   ]
  },
  {
   "cell_type": "code",
   "execution_count": 23,
   "metadata": {},
   "outputs": [],
   "source": [
    "df_all_years = pd.read_csv('firms.csv')\n",
    "data = df_all_years[df_all_years.year % 2 != 0]"
   ]
  },
  {
   "cell_type": "markdown",
   "metadata": {},
   "source": [
    "Converting data to numpy format:"
   ]
  },
  {
   "cell_type": "code",
   "execution_count": 24,
   "metadata": {},
   "outputs": [
    {
     "name": "stdout",
     "output_type": "stream",
     "text": [
      "Data contains data for 441 firms over 6 odd years\n"
     ]
    }
   ],
   "source": [
    "N = data.firmid.unique().size\n",
    "T = data.year.unique().size\n",
    "print(f'Data contains data for {N} firms over {T} odd years')"
   ]
  },
  {
   "cell_type": "markdown",
   "metadata": {},
   "source": [
    "Extracting data to numpy arrays:"
   ]
  },
  {
   "cell_type": "code",
   "execution_count": 25,
   "metadata": {},
   "outputs": [],
   "source": [
    "y = data.ldsa.values.reshape((N*T,1))\n",
    "const = np.ones((N*T,1))\n",
    "l = data.lemp.values.reshape((N*T,1))\n",
    "k = data.lcap.values.reshape((N*T,1))\n",
    "X = np.hstack([const, l, k])"
   ]
  },
  {
   "cell_type": "markdown",
   "metadata": {},
   "source": [
    "Creating label-vectors:"
   ]
  },
  {
   "cell_type": "code",
   "execution_count": 48,
   "metadata": {},
   "outputs": [],
   "source": [
    "label_y = 'Log of deflated sales'\n",
    "label_x = ['Log of employment', 'Log of capital stock']"
   ]
  },
  {
   "cell_type": "markdown",
   "metadata": {},
   "source": [
    "## <a id='toc3_'></a>[FE estimation of $\\beta_K$ and $\\beta_L$](#toc3_)"
   ]
  },
  {
   "cell_type": "markdown",
   "metadata": {},
   "source": [
    "For the purpose of our project, we have decided to use the Fixed-Effects (FE) estimator to find estimates of $\\beta_K$ and $\\beta_L$. \n",
    "\n",
    "For the FE-estimation, we need to demean our dependent variable and our regressors - to perform a \"within transformation\". We do this by creating a a demeaning matrix, and using it as input in the transformation function from Project_1.py. Here, we create the $Q_T$ demeaning matrix of the form:\n",
    "\n",
    "$$Q_T =\n",
    "    \\begin{bmatrix}\n",
    "    1 & 0 & \\dots & 0\\\\\n",
    "    0 & 1 & \\dots & 0\\\\\n",
    "    \\vdots & \\vdots & \\ddots & \\vdots\\\\\n",
    "    0 & 0 & \\dots & 1\n",
    "    \\end{bmatrix}_{T \\times T}\n",
    "    -\n",
    "    \\left(\\mathbf{\\frac{1}{T}}\\right)_{T \\times T}\n",
    "    $$\n",
    "    \n",
    "$$ = \n",
    "    \\begin{bmatrix}\n",
    "    1-\\frac{1}{T} & 0-\\frac{1}{T} & \\dots & 0-\\frac{1}{T}\\\\\n",
    "    0-\\frac{1}{T} & 1-\\frac{1}{T} & \\dots & 0-\\frac{1}{T}\\\\\n",
    "    \\vdots & \\vdots & \\ddots & \\vdots\\\\\n",
    "    0-\\frac{1}{T} & 0-\\frac{1}{T} & \\dots & 1-\\frac{1}{T}\n",
    "    \\end{bmatrix}_{T \\times T}\n",
    "$$\n",
    "\n",
    "We use this as input in our transformation function to obtain $(\\ddot{y}_{it}, \\ddot{\\mathbf{x}}_{it})$"
   ]
  },
  {
   "cell_type": "code",
   "execution_count": 42,
   "metadata": {},
   "outputs": [],
   "source": [
    "Q_T = np.eye(T) - np.tile(1/T, (T, T)) \n",
    "\n",
    "y_demean = pf.perm(Q_T, y)\n",
    "x_demean = pf.perm(Q_T, X)"
   ]
  },
  {
   "cell_type": "markdown",
   "metadata": {},
   "source": [
    "The FE estimator is essentially the pooled OLS estimator on our within-transformed variables. It is defined as such:\n",
    "\n",
    "$$\n",
    "\\hat{\\beta}_{FE} = \n",
    "\\left(\n",
    "    \\sum_{i=1}^{N}\\sum_{i=1}^{T}\\ddot{\\mathbf{x}}'_{it}\\ddot{\\mathbf{x}}_{it}\n",
    "    \\right)^{-1}\n",
    "\\left(\n",
    "    \\sum_{i=1}^{N}\\sum_{i=1}^{T}\\ddot{\\mathbf{x}}'_{it}\\ddot{y}_{it}\n",
    "    \\right)^{-1}\n",
    "$$\n",
    "\n",
    "Stacked over $t$ and $i$, in matrix form it becomes:\n",
    "\n",
    "$$\n",
    "\\hat{\\beta}_{FE} = (\\ddot{\\mathbf{X}}'\\ddot{\\mathbf{X}})^{-1}\\ddot{\\mathbf{X}}'\\ddot{\\mathbf{y}}\n",
    "$$"
   ]
  },
  {
   "cell_type": "markdown",
   "metadata": {},
   "source": [
    "In order for the FE estimator to be consistent, we must make sure that the regression matrix has full rank (FE.2 condition). We check this with our rank-checking function."
   ]
  },
  {
   "cell_type": "code",
   "execution_count": 45,
   "metadata": {},
   "outputs": [
    {
     "name": "stdout",
     "output_type": "stream",
     "text": [
      "Rank of demeaned x: 2\n",
      "Eigenvalues of within-transformed x: [ 0. 99. 28.]\n"
     ]
    }
   ],
   "source": [
    "pf.check_rank(x_demean)"
   ]
  },
  {
   "cell_type": "markdown",
   "metadata": {},
   "source": [
    "Now that we have confirmed the demeaned matrix to have full rank, we don't need to adjust it, we can just run the estimation."
   ]
  },
  {
   "cell_type": "code",
   "execution_count": 49,
   "metadata": {},
   "outputs": [
    {
     "name": "stdout",
     "output_type": "stream",
     "text": [
      "Fixed Effects\n",
      "Dependent variable: Log of deflated sales\n",
      "\n",
      "                        Beta      Se    t-values\n",
      "--------------------  ------  ------  ----------\n",
      "Log of employment     0.7069  0.0202     35.0694\n",
      "Log of capital stock  0.1424  0.0180      7.9319\n",
      "R² = 0.468\n",
      "σ² = 0.016\n"
     ]
    }
   ],
   "source": [
    "fe_result = pf.estimate(y_demean, x_demean[:,1:3], T=T)  # We exclude the constant from the fixed effects estimation, as the given Cobb-Dougles production function does not include a constant term\n",
    "pf.print_table((label_y, label_x), fe_result, title=\"Fixed Effects\", floatfmt='.4f')"
   ]
  },
  {
   "cell_type": "markdown",
   "metadata": {},
   "source": [
    "## <a id='toc4_'></a>[Test for constant returns to scale](#toc4_)"
   ]
  },
  {
   "cell_type": "markdown",
   "metadata": {},
   "source": [
    "It can be shown [DO WE HAVE TO SHOW THIS?] that a Cobb Douglas production technology, yield a constant return to scale if the parameters of the production inputs (i.e. the betas) sum to unity. Specifically, the production technology specified in relation to this assignment, will yield constant returns to scale if $\\beta_K + \\beta_L = 1$. Based on an Wald test, we can test the hypothesis that this is true against the alternative, that it is not true.\n",
    "\n",
    "$$H_0: \\beta_K + \\beta_L = 1$$\n",
    "\n",
    "$$H_1: \\beta_K + \\beta_L \\neq 1$$\n",
    "\n",
    "The general Wald statistic is: \n",
    "\n",
    "$$W \\equiv (R\\widehat{\\beta}-r)'[R\\widehat{Avar(\\widehat{\\beta})}R']^{-1}   (R\\widehat{\\beta}-r)\\$$\n",
    "\n",
    "where, given the above $H_0$, \n",
    "\n",
    "$$R=[1 \\quad 1]$$\n",
    "\n",
    "$$r=1$$\n",
    "\n",
    "This statistic can be shown to be chi-square distributed under $H_0$, and, hence, $H_0$ can be rejected at level $\\alpha$ if $W>(1-\\alpha)$-quantile of $\\chi_Q^2$ \n"
   ]
  },
  {
   "cell_type": "code",
   "execution_count": 64,
   "metadata": {},
   "outputs": [
    {
     "name": "stdout",
     "output_type": "stream",
     "text": [
      "Wald test statistic: 69.8893\n",
      "Critical value at the 5% level: 3.8415\n",
      "Critical value at the 1% level: 6.6349\n",
      "Critical value at the 0.001% level: 19.5114\n"
     ]
    }
   ],
   "source": [
    "b_hat = fe_result['b_hat']\n",
    "r = 1\n",
    "R = np.array([[1,1]])\n",
    "cov = fe_result['cov']\n",
    "\n",
    "pf.wald_test(b_hat, r, R, cov)"
   ]
  },
  {
   "cell_type": "markdown",
   "metadata": {},
   "source": [
    "Hence, we reject $H_0$ at a significance level of 0.001%, and conclude that the production does not exhibit constant returns to scale."
   ]
  },
  {
   "cell_type": "markdown",
   "metadata": {},
   "source": [
    "## <a id='toc5_'></a>[Conclusion](#toc5_)"
   ]
  },
  {
   "cell_type": "markdown",
   "metadata": {},
   "source": []
  }
 ],
 "metadata": {
  "kernelspec": {
   "display_name": "base",
   "language": "python",
   "name": "python3"
  },
  "language_info": {
   "codemirror_mode": {
    "name": "ipython",
    "version": 3
   },
   "file_extension": ".py",
   "mimetype": "text/x-python",
   "name": "python",
   "nbconvert_exporter": "python",
   "pygments_lexer": "ipython3",
   "version": "3.11.7"
  }
 },
 "nbformat": 4,
 "nbformat_minor": 2
}
