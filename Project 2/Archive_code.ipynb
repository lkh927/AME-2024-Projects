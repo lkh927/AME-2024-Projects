{
 "cells": [
  {
   "cell_type": "code",
   "execution_count": 1,
   "metadata": {},
   "outputs": [
    {
     "name": "stdout",
     "output_type": "stream",
     "text": [
      "The data contains 214 rows (countries) and 85 columns (variables).\n"
     ]
    }
   ],
   "source": [
    "import numpy as np\n",
    "import numpy.linalg as la\n",
    "import pandas as pd\n",
    "from sklearn.linear_model import Lasso\n",
    "from scipy.stats import norm\n",
    "import statsmodels.formula.api as smf\n",
    "import matplotlib.pyplot as plt\n",
    "from sklearn.preprocessing import PolynomialFeatures\n",
    "\n",
    "# autoreload\n",
    "%load_ext autoreload\n",
    "%autoreload 2\n",
    "\n",
    "# import data and code\n",
    "from Project_2 import *\n",
    "print(f'The data contains {dat.shape[0]} rows (countries) and {dat.shape[1]} columns (variables).')"
   ]
  },
  {
   "cell_type": "markdown",
   "metadata": {},
   "source": [
    "### Background code"
   ]
  },
  {
   "cell_type": "code",
   "execution_count": null,
   "metadata": {},
   "outputs": [],
   "source": [
    "def var_single(x, y, coeffs):\n",
    "    # Estimate variance for single post Lasso\n",
    "    N = x.shape[0]\n",
    "    res = y - x @ coeffs\n",
    "    SSR = res.T @ res\n",
    "    sigma2 = SSR/(N-x.shape[1])\n",
    "    var_single = sigma2*la.inv(x.T@x)\n",
    "\n",
    "    return var_single\n",
    "\n",
    "def standard_errors1(var):\n",
    "    # Calculate standard errors for SPL\n",
    "    se1 = np.sqrt(np.diagonal(var)).reshape(-1, 1)\n",
    "    se1 = se1[1][0]\n",
    "\n",
    "    return se1"
   ]
  },
  {
   "cell_type": "markdown",
   "metadata": {},
   "source": [
    "### Using first dataset"
   ]
  },
  {
   "cell_type": "markdown",
   "metadata": {},
   "source": [
    "**Single Lasso using BRT**"
   ]
  },
  {
   "cell_type": "code",
   "execution_count": 3,
   "metadata": {},
   "outputs": [
    {
     "ename": "NameError",
     "evalue": "name 'X_tilde' is not defined",
     "output_type": "error",
     "traceback": [
      "\u001b[0;31m---------------------------------------------------------------------------\u001b[0m",
      "\u001b[0;31mNameError\u001b[0m                                 Traceback (most recent call last)",
      "Cell \u001b[0;32mIn[3], line 2\u001b[0m\n\u001b[1;32m      1\u001b[0m \u001b[38;5;124;03m''' Step 1: Calculate BRT penalty '''\u001b[39;00m\n\u001b[0;32m----> 2\u001b[0m penalty_BRT \u001b[38;5;241m=\u001b[39m BRT(X_tilde, g)\n\u001b[1;32m      4\u001b[0m \u001b[38;5;124;03m''' Step 2: Lasso g using y0 and Z (i.e. g using X) '''\u001b[39;00m\n\u001b[1;32m      5\u001b[0m fit_BRTgx, coeff_BRTgx, intercept_BRTgx \u001b[38;5;241m=\u001b[39m lasso(X_tilde, g, penalty_BRT)\n",
      "\u001b[0;31mNameError\u001b[0m: name 'X_tilde' is not defined"
     ]
    }
   ],
   "source": [
    "''' Step 1: Calculate BRT penalty '''\n",
    "penalty_BRT = BRT(X_tilde, g)\n",
    "\n",
    "''' Step 2: Lasso g using y0 and Z (i.e. g using X) '''\n",
    "fit_BRTgx, coeff_BRTgx, intercept_BRTgx = lasso(X_tilde, g, penalty_BRT)\n",
    "\n",
    "# Implied estimates and selection of non-zero coefficient variables for further analysis\n",
    "Z_J_BRTgx = Z[:,coeff_BRTgx[1:]!=0] # Note: We use Z and not Z_tilde\n",
    "selected_variables_BRTgx = (coeff_BRTgx != 0)\n",
    "\n",
    "# Display number of variables in Z_J\n",
    "if Z_J_BRTgx.size > 0: # if Z_J is non-empty and variables have been selected\n",
    "    print(\"The number of variables in Z_J is {}\".format(Z_J_BRTgx.shape[1]))\n",
    "    print('Selected varriables: ', X_names[selected_variables_BRTgx].to_list())\n",
    "else: # if Z_J is empty\n",
    "    print(\"The number of variables in Z_J is 0, no variables selected.\")\n",
    "\n",
    "''' Step 3: Regress g using y0 and Z_J (selected variables) using OLS '''\n",
    "# Add a constant to X\n",
    "xx = np.column_stack((np.ones(N),y0,Z_J_BRTgx))\n",
    "yy = np.array(g).reshape(-1,1)\n",
    "\n",
    "# Calculate OLS estimate\n",
    "coefs_BRT_SPL = la.inv(xx.T@xx)@xx.T@yy\n",
    "beta_y0_BRTSPL = coefs_BRT_SPL[1][0]\n",
    "\n",
    "#print the coefficients\n",
    "pd.DataFrame(coefs_BRT_SPL, index=['constant', 'lgdp_initial'], columns=['gdp_growth'])\n",
    "\n",
    "''' Step 4: Calculate variance, standard errors and confidence interval '''\n",
    "# Estimate variance\n",
    "var_BRT_SPL = var_single(xx,yy,coefs_BRT_SPL)\n",
    "\n",
    "# Calculate standard errors\n",
    "se_BRT_SPL = standard_errors1(var_BRT_SPL)\n",
    "print(\"se_BRT_PSL = \",se_BRT_SPL.round(5))\n",
    "\n",
    "# Calculate confidence interval\n",
    "CI_low_BRT_SPL  = beta_y0_BRTSPL - q * se_BRT_SPL\n",
    "CI_high_BRT_SPL = beta_y0_BRTSPL + q * se_BRT_SPL\n",
    "\n",
    "# Display confidence interval\n",
    "print(\"Confidence interval for β_y0 (BRT_SPL) = \",(CI_low_BRT_SPL.round(5),CI_high_BRT_SPL.round(5)))"
   ]
  },
  {
   "cell_type": "markdown",
   "metadata": {},
   "source": [
    "**Single Lasso using BCCH**"
   ]
  },
  {
   "cell_type": "code",
   "execution_count": null,
   "metadata": {},
   "outputs": [],
   "source": [
    "''' Run the Single-post Lasso with BCCH penalty '''\n",
    "# Caluclate the BRT penalty\n",
    "penalty_BCCH = BCCH(X_tilde,g)\n",
    "\n",
    "# Implied estimates and selection\n",
    "fit_BCCHgx, coeff_BCCHgx, intercept_BCCHgx = lasso(X_tilde, g, penalty_BCCH)\n",
    "\n",
    "Z_J_BCCHgx = Z[:,coeff_BCCHgx[1:]!=0] # Note: We use Z and not Z_stan\n",
    "selected_variables_BCCHgx = (coeff_BCCHgx != 0)\n",
    "\n",
    "# Display number of variables in Z_J\n",
    "if Z_J_BCCHgx.size > 0: # if Z_J is non-empty and variables have been selected\n",
    "    print(\"The number of variables in Z_J is {}\".format(Z_J_BCCHgx.shape[1]))\n",
    "    print('Selected varriables: ', X_names[selected_variables_BCCHgx].to_list())\n",
    "else:\n",
    "    print(\"The number of variables in Z_J is 0, no variables selected.\")\n",
    "\n",
    "''' Step 3: Regress g using y0 and Z_J (selected variables) using OLS '''\n",
    "\n",
    "# Add a constant to X\n",
    "xx = np.column_stack((np.ones(N),y0,Z_J_BCCHgx))\n",
    "yy = np.array(g).reshape(-1,1)\n",
    "\n",
    "# Calculate OLS estimate\n",
    "coefs_BCCH_SPL = la.inv(xx.T@xx)@xx.T@yy\n",
    "beta_y0_BCCHSPL = coefs_BRT_SPL[1][0]\n",
    "\n",
    "#print the coefficients\n",
    "pd.DataFrame(coefs_BRT_SPL, index=['constant', 'lgdp_initial'], columns=['gdp_growth'])\n",
    "\n",
    "# Estimate variance\n",
    "var_BCCH_SPL = var_single(xx,yy,coefs_BCCH_SPL)\n",
    "\n",
    "# Calculate standard errors\n",
    "se_BCCH_SPL = standard_errors1(var_BCCH_SPL)\n",
    "print(\"se_BCCH_PSL = \",se_BCCH_SPL.round(5))\n",
    "\n",
    "# Calculate confidence interval\n",
    "CI_low_BCCH_SPL  = beta_y0_BCCHSPL - q * se_BCCH_SPL\n",
    "CI_high_BCCH_SPL = beta_y0_BCCHSPL + q * se_BCCH_SPL\n",
    "\n",
    "# Display confidence interval\n",
    "print(\"Confidence interval for β_y0 (BRT_SPL) = \",(CI_low_BCCH_SPL.round(5),CI_high_BCCH_SPL.round(5)))"
   ]
  },
  {
   "cell_type": "markdown",
   "metadata": {},
   "source": [
    "### Using second dataset"
   ]
  },
  {
   "cell_type": "code",
   "execution_count": null,
   "metadata": {},
   "outputs": [],
   "source": [
    "included_rows2 = dat[vv_outcome + vv_key + ['investment_rate'] ].notnull().all(axis=1)\n",
    "data2 = dat[included_rows2]\n",
    "\n",
    "data2 = data2.dropna(axis=1)\n",
    "\n",
    "print(f'The number of observations left in data2 is {data2.shape[0]}.')\n",
    "print(f'The number of variables with no missing values is {data2.shape[1]}.')\n",
    "print(f'The remaining variables are: {data2.columns.to_list()}')"
   ]
  },
  {
   "cell_type": "code",
   "execution_count": null,
   "metadata": {},
   "outputs": [],
   "source": [
    "g = data2[vv_outcome].squeeze() #*100 to get it in percentage and not decimals\n",
    "y0 = data2[vv_key].squeeze()\n",
    "Z_basic = data2.drop([\"gdp_growth\", \"lgdp_initial\",  # Drop outcome and key explanatory variable\n",
    "                      \"code\", \"constant\", \"gdp_initial\", \"lpop_initial\", \"pother\", \"europe\"], axis=1) # Drop irrelevant/perfectly correlated/reference variables\n",
    "Z2 = PolynomialFeatures(1, include_bias=False).fit_transform(Z_basic)\n",
    "X2 = np.column_stack((y0,Z2))\n",
    "N = X2.shape[0]\n",
    "\n",
    "# Standardize data\n",
    "X2_tilde = standardize(X2)\n",
    "Z2_tilde = standardize(Z2)\n",
    "y0_tilde = standardize(y0)\n",
    "\n",
    "print(f'The number of variables in Z is {Z2.shape[1]}.')\n",
    "\n",
    "# Create a DataFrame with X_names as the index\n",
    "Z2_names = Z_basic.columns\n",
    "X2_names = Z2_names.insert(0, y0.name)\n",
    "print(f'The first five rows are: {X2_names[:5]}')"
   ]
  },
  {
   "cell_type": "markdown",
   "metadata": {},
   "source": [
    "**Single Lasso BRT**"
   ]
  },
  {
   "cell_type": "code",
   "execution_count": null,
   "metadata": {},
   "outputs": [],
   "source": [
    "''' Step 1: Calculate BRT penalty '''\n",
    "penalty_BRT2 = BRT(X2_tilde,g)\n",
    "\n",
    "''' Step 2: Lasso g using y0 and Z (i.e. g using X) '''\n",
    "# Implied estimates and selection\n",
    "fit_BRTgx2, coeff_BRTgx2, intercept_BRTgx2 = lasso(X2_tilde, g, penalty_BRT2)\n",
    "\n",
    "Z_J_BRTgx2 = Z2[:,coeff_BRTgx2[1:]!=0] # Note: We use Z and not Z_stan\n",
    "selected_variables_BRTgx2 = (coeff_BRTgx2 != 0)\n",
    "\n",
    "# Display number of variables in Z_J\n",
    "if Z_J_BRTgx2.size > 0: # if Z_J is non-empty and variables have been selected\n",
    "    print(\"The number of variables in Z_J is {}\".format(Z_J_BRTgx2.shape[1]))\n",
    "    print('Selected varriables: ', X2_names[selected_variables_BRTgx2].to_list())\n",
    "else:\n",
    "    print(\"The number of variables in Z_J is 0, no variables selected.\")\n",
    "\n",
    "''' Step 3: Regress g using y0 and Z_J (selected variables) using OLS '''\n",
    "# Add a constant to X\n",
    "xx2 = np.column_stack((np.ones(N),y0,Z_J_BRTgx2))\n",
    "yy = np.array(g).reshape(-1,1)\n",
    "\n",
    "# Calculate OLS estimate\n",
    "coefs_BRT_SPL2 = la.inv(xx2.T@xx2)@xx2.T@yy\n",
    "beta_y0_BRTSPL2 = coefs_BRT_SPL2[1][0]\n",
    "\n",
    "#print the coefficients\n",
    "print(pd.DataFrame(coefs_BRT_SPL2, index=[['constant', 'lgdp_initial']+X2_names[selected_variables_BRTgx2].to_list()], columns=['gdp_growth']))\n",
    "\n",
    "''' Step 4: calculate confidence interval  for β_y0 '''\n",
    "# Estimate variance\n",
    "var_BRT_SPL2 = var_single(xx2,yy,coefs_BRT_SPL2)\n",
    "\n",
    "# Calculate standard errors\n",
    "se_BRT_SPL2 = standard_errors1(var_BRT_SPL2)\n",
    "print(\"se_BRT_SPL = \",se_BRT_SPL2.round(5))\n",
    "\n",
    "# Calculate confidence interval\n",
    "CI_low_BRT_SPL2  = beta_y0_BRTSPL2 - q * se_BRT_SPL2\n",
    "CI_high_BRT_SPL2 = beta_y0_BRTSPL2 + q * se_BRT_SPL2\n",
    "\n",
    "# Display confidence interval\n",
    "print(\"Confidence interval for β_y0 (BRT_PSL) = \",(CI_low_BRT_SPL2.round(5),CI_high_BRT_SPL2.round(5)))"
   ]
  },
  {
   "cell_type": "markdown",
   "metadata": {},
   "source": [
    "Double Lasso"
   ]
  },
  {
   "cell_type": "code",
   "execution_count": null,
   "metadata": {},
   "outputs": [],
   "source": [
    "''' Step 1 and 2 are the same as for PSL: Calculate BRT penalty and Lasso g using X_tilde '''\n",
    "''' Step 3: Lasso y0 using Z_tilde '''\n",
    "penalty_BRTy0z2 = BRT(Z2_tilde, y0)\n",
    "fit_BRTy0z2, coeff_BRTy0z2, intercept_BRTy0z2 = lasso(Z2_tilde, y0, penalty_BRTy0z2)\n",
    "\n",
    "selected_variables_BRTy0z2 = (coeff_BRTy0z2 != 0)\n",
    "print('Selected varriables: ', Z2_names[selected_variables_BRTy0z2].to_list())\n",
    "\n",
    "''' Step 4: Calculate β_y0 and its confidence interval '''\n",
    "# Calculate residuals\n",
    "res_BRTgx2 = g - fit_BRTgx2.predict(X2_tilde)\n",
    "res_BRTgxz2 = res_BRTgx2 + y0_tilde * coeff_BRTgx2[0]\n",
    "res_BRTy0z2 = y0 - fit_BRTy0z2.predict(Z2_tilde)\n",
    "\n",
    "# Calculate and display beta_y0\n",
    "beta_y0_BRTPDL2 = beta(y0, res_BRTy0z2, res_BRTgxz2)\n",
    "print(\"Coefficient for β_y0 (BRT_PDL2) = \",beta_y0_BRTPDL2.round(5))\n",
    "\n",
    "# Calculate variance    \n",
    "sigma2_BRT_PDL2 = var_double(X2_tilde, res_BRTy0z2, res_BRTgx2)\n",
    "\n",
    "# Calculate and display standard error\n",
    "se_BRT_PDL2 = standard_errors2(X2_tilde, sigma2_BRT_PDL2)\n",
    "print(\"se_BRT_PDL = \",se_BRT_PDL2.round(5))\n",
    "\n",
    "# Calculate and display confidence interval\n",
    "CI_low_BRT_PDL2  = beta_y0_BRTPDL2 - q * se_BRT_PDL2\n",
    "CI_high_BRT_PDL2 = beta_y0_BRTPDL2 + q * se_BRT_PDL2\n",
    "print(\"Confidence interval for β_y0 (BRT_PDL) = \",(CI_low_BRT_PDL2.round(5),CI_high_BRT_PDL2.round(5)))"
   ]
  },
  {
   "cell_type": "markdown",
   "metadata": {},
   "source": [
    "**Single Lasso BCCH**"
   ]
  },
  {
   "cell_type": "code",
   "execution_count": null,
   "metadata": {},
   "outputs": [],
   "source": [
    "penalty_BCCH2 = BCCH(X2_tilde,g)\n",
    "\n",
    "# Implied estimates and selection\n",
    "fit_BCCHgx2, coeff_BCCHgx2, intercept_BCCHgx2 = lasso(X2_tilde, g, penalty_BCCH2)\n",
    "\n",
    "Z_J_BCCHgx = Z2[:,coeff_BCCHgx2[1:]!=0] # Note: We use Z and not Z_stan\n",
    "selected_variables_BCCHgx = (coeff_BCCHgx2 != 0)\n",
    "\n",
    "# Display number of variables in Z_J\n",
    "if Z_J_BCCHgx.size > 0: # if Z_J is non-empty and variables have been selected\n",
    "    print(\"The number of variables in Z_J is {}\".format(Z_J_BCCHgx.shape[1]))\n",
    "    print('Selected varriables: ', X2_names[selected_variables_BCCHgx].to_list())\n",
    "else:\n",
    "    print(\"The number of variables in Z_J is 0, no variables selected.\")"
   ]
  },
  {
   "cell_type": "markdown",
   "metadata": {},
   "source": [
    "Double Lasso"
   ]
  },
  {
   "cell_type": "code",
   "execution_count": 4,
   "metadata": {},
   "outputs": [
    {
     "ename": "NameError",
     "evalue": "name 'Z2_tilde' is not defined",
     "output_type": "error",
     "traceback": [
      "\u001b[0;31m---------------------------------------------------------------------------\u001b[0m",
      "\u001b[0;31mNameError\u001b[0m                                 Traceback (most recent call last)",
      "Cell \u001b[0;32mIn[4], line 2\u001b[0m\n\u001b[1;32m      1\u001b[0m \u001b[38;5;66;03m# Calculate penalty rule\u001b[39;00m\n\u001b[0;32m----> 2\u001b[0m penalty_BCCHy0z2 \u001b[38;5;241m=\u001b[39m BCCH(Z2_tilde, y0)\n\u001b[1;32m      4\u001b[0m \u001b[38;5;66;03m# Run Lasso\u001b[39;00m\n\u001b[1;32m      5\u001b[0m fit_BCCHy0z2, coeff_BCCHy0z2, intercept_BCCHy0z2 \u001b[38;5;241m=\u001b[39m lasso(Z2_tilde, y0, penalty_BCCHy0z2)\n",
      "\u001b[0;31mNameError\u001b[0m: name 'Z2_tilde' is not defined"
     ]
    }
   ],
   "source": [
    "# Calculate penalty rule\n",
    "penalty_BCCHy0z2 = BCCH(Z2_tilde, y0)\n",
    "\n",
    "# Run Lasso\n",
    "fit_BCCHy0z2, coeff_BCCHy0z2, intercept_BCCHy0z2 = lasso(Z2_tilde, y0, penalty_BCCHy0z2)\n",
    "\n",
    "selected_variables_BCCHy0z = (coeff_BCCHy0z2 != 0)\n",
    "print('Selected varriables: ', Z2_names[selected_variables_BCCHy0z].to_list())\n",
    "\n",
    "# Calculate residuals\n",
    "res_BCCHgx2 = g - fit_BCCHgx2.predict(X2_tilde)\n",
    "res_BCCHgxz2 = res_BCCHgx2 + y0_tilde * coeff_BCCHgx2[0]\n",
    "res_BCCHy0z2 = y0 - fit_BCCHy0z2.predict(Z2_tilde)\n",
    "\n",
    "# Calculate and display beta_y0\n",
    "beta_y0_BCCHPDL2 = beta(y0, res_BCCHy0z2,res_BCCHgxz2)\n",
    "print(\"Coefficient for β_y0 (BCCH_PDL) = \",beta_y0_BCCHPDL2.round(5))\n",
    "\n",
    "# Calculate variance   \n",
    "sigma2_BCCH_PDL2 = var_double(X2_tilde,res_BCCHy0z2,res_BCCHgx2)\n",
    "\n",
    "# Calculate and display standard error\n",
    "se_BCCH_PDL2 = standard_errors2(X2_tilde,sigma2_BCCH_PDL2)\n",
    "print(\"se_BCCH_PDL = \",se_BCCH_PDL.round(5))\n",
    "\n",
    "# Calculate and display confidence interval\n",
    "CI_low_BCCH_PDL2  = beta_y0_BCCHPDL2 - q * se_BCCH_PDL2\n",
    "CI_high_BCCH_PDL2 = beta_y0_BCCHPDL2 + q * se_BCCH_PDL2\n",
    "print(\"Confidence interval for β_y0 (BCCH_PDL) = \",(CI_low_BCCH_PDL2.round(5),CI_high_BCCH_PDL2.round(5)))"
   ]
  },
  {
   "cell_type": "code",
   "execution_count": null,
   "metadata": {},
   "outputs": [],
   "source": [
    "BRT_PSL_results2={'β_y0': beta_y0_BRTSPL2, 'SE': se_BRT_SPL2, 'CI_low': CI_low_BRT_SPL2, 'CI_high': CI_high_BRT_SPL2}\n",
    "BRT_PDL_results2={'β_y0': beta_y0_BRTPDL2, 'SE': se_BRT_PDL2, 'CI_low': CI_low_BRT_PDL2, 'CI_high': CI_high_BRT_PDL2}\n",
    "BCCH_PSL_results2={'β_y0': beta_y0_BRTSPL2, 'SE': se_BRT_SPL2, 'CI_low': CI_low_BRT_SPL2, 'CI_high': CI_high_BRT_SPL2}\n",
    "BCCH_PDL_results2={'β_y0': beta_y0_BCCHPDL2, 'SE': se_BCCH_PDL2, 'CI_low': CI_low_BCCH_PDL2, 'CI_high': CI_high_BCCH_PDL2}\n",
    "\n",
    "all_results_2=pd.DataFrame([BRT_PSL_results2, BRT_PDL_results2, BCCH_PSL_results2, BCCH_PDL_results2], index=['PSL (BRT)', 'PDL (BRT)', 'PSL (BCCH)', 'PDL (BCCH)'])\n",
    "print(pd.DataFrame.to_latex(all_results_2,index=0))\n",
    "\n",
    "penalty_2=pd.DataFrame([penalty_BRT2.round(4), penalty_BCCH2.round(4)], index=['BRT', 'BCCH'], columns=['Penalty'])\n",
    "print(pd.DataFrame.to_latex(penalty_2))"
   ]
  }
 ],
 "metadata": {
  "kernelspec": {
   "display_name": "base",
   "language": "python",
   "name": "python3"
  },
  "language_info": {
   "codemirror_mode": {
    "name": "ipython",
    "version": 3
   },
   "file_extension": ".py",
   "mimetype": "text/x-python",
   "name": "python",
   "nbconvert_exporter": "python",
   "pygments_lexer": "ipython3",
   "version": "3.11.7"
  }
 },
 "nbformat": 4,
 "nbformat_minor": 2
}
