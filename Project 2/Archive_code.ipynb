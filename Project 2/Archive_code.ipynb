{
 "cells": [
  {
   "cell_type": "code",
   "execution_count": 1,
   "metadata": {},
   "outputs": [
    {
     "name": "stdout",
     "output_type": "stream",
     "text": [
      "The data contains 214 rows (countries) and 85 columns (variables).\n"
     ]
    }
   ],
   "source": [
    "import numpy as np\n",
    "import numpy.linalg as la\n",
    "import pandas as pd\n",
    "from sklearn.linear_model import Lasso\n",
    "from scipy.stats import norm\n",
    "import statsmodels.formula.api as smf\n",
    "import matplotlib.pyplot as plt\n",
    "from sklearn.preprocessing import PolynomialFeatures\n",
    "\n",
    "# autoreload\n",
    "%load_ext autoreload\n",
    "%autoreload 2\n",
    "\n",
    "# import data and code\n",
    "from Project_2 import *\n",
    "print(f'The data contains {dat.shape[0]} rows (countries) and {dat.shape[1]} columns (variables).')"
   ]
  },
  {
   "cell_type": "markdown",
   "metadata": {},
   "source": [
    "**Single Lasso using BRT**"
   ]
  },
  {
   "cell_type": "code",
   "execution_count": 2,
   "metadata": {},
   "outputs": [
    {
     "ename": "NameError",
     "evalue": "name 'X_tilde' is not defined",
     "output_type": "error",
     "traceback": [
      "\u001b[0;31m---------------------------------------------------------------------------\u001b[0m",
      "\u001b[0;31mNameError\u001b[0m                                 Traceback (most recent call last)",
      "Cell \u001b[0;32mIn[2], line 2\u001b[0m\n\u001b[1;32m      1\u001b[0m \u001b[38;5;124;03m''' Step 1: Calculate BRT penalty '''\u001b[39;00m\n\u001b[0;32m----> 2\u001b[0m penalty_BRT \u001b[38;5;241m=\u001b[39m BRT(X_tilde, g)\n\u001b[1;32m      4\u001b[0m \u001b[38;5;124;03m''' Step 2: Lasso g using y0 and Z (i.e. g using X) '''\u001b[39;00m\n\u001b[1;32m      5\u001b[0m fit_BRTgx, coeff_BRTgx, intercept_BRTgx \u001b[38;5;241m=\u001b[39m lasso(X_tilde, g, penalty_BRT)\n",
      "\u001b[0;31mNameError\u001b[0m: name 'X_tilde' is not defined"
     ]
    }
   ],
   "source": [
    "''' Step 1: Calculate BRT penalty '''\n",
    "penalty_BRT = BRT(X_tilde, g)\n",
    "\n",
    "''' Step 2: Lasso g using y0 and Z (i.e. g using X) '''\n",
    "fit_BRTgx, coeff_BRTgx, intercept_BRTgx = lasso(X_tilde, g, penalty_BRT)\n",
    "\n",
    "# Implied estimates and selection of non-zero coefficient variables for further analysis\n",
    "Z_J_BRTgx = Z[:,coeff_BRTgx[1:]!=0] # Note: We use Z and not Z_tilde\n",
    "selected_variables_BRTgx = (coeff_BRTgx != 0)\n",
    "\n",
    "# Display number of variables in Z_J\n",
    "if Z_J_BRTgx.size > 0: # if Z_J is non-empty and variables have been selected\n",
    "    print(\"The number of variables in Z_J is {}\".format(Z_J_BRTgx.shape[1]))\n",
    "    print('Selected varriables: ', X_names[selected_variables_BRTgx].to_list())\n",
    "else: # if Z_J is empty\n",
    "    print(\"The number of variables in Z_J is 0, no variables selected.\")\n",
    "\n",
    "''' Step 3: Regress g using y0 and Z_J (selected variables) using OLS '''\n",
    "# Add a constant to X\n",
    "xx = np.column_stack((np.ones(N),y0,Z_J_BRTgx))\n",
    "yy = np.array(g).reshape(-1,1)\n",
    "\n",
    "# Calculate OLS estimate\n",
    "coefs_BRT_SPL = la.inv(xx.T@xx)@xx.T@yy\n",
    "beta_y0_BRTSPL = coefs_BRT_SPL[1][0]\n",
    "\n",
    "#print the coefficients\n",
    "pd.DataFrame(coefs_BRT_SPL, index=['constant', 'lgdp_initial'], columns=['gdp_growth'])\n",
    "\n",
    "''' Step 4: Calculate variance, standard errors and confidence interval '''\n",
    "# Estimate variance\n",
    "var_BRT_SPL = var_single(xx,yy,coefs_BRT_SPL)\n",
    "\n",
    "# Calculate standard errors\n",
    "se_BRT_SPL = standard_errors1(var_BRT_SPL)\n",
    "print(\"se_BRT_PSL = \",se_BRT_SPL.round(5))\n",
    "\n",
    "# Calculate confidence interval\n",
    "CI_low_BRT_SPL  = beta_y0_BRTSPL - q * se_BRT_SPL\n",
    "CI_high_BRT_SPL = beta_y0_BRTSPL + q * se_BRT_SPL\n",
    "\n",
    "# Display confidence interval\n",
    "print(\"Confidence interval for β_y0 (BRT_SPL) = \",(CI_low_BRT_SPL.round(5),CI_high_BRT_SPL.round(5)))"
   ]
  },
  {
   "cell_type": "code",
   "execution_count": null,
   "metadata": {},
   "outputs": [],
   "source": []
  }
 ],
 "metadata": {
  "kernelspec": {
   "display_name": "base",
   "language": "python",
   "name": "python3"
  },
  "language_info": {
   "codemirror_mode": {
    "name": "ipython",
    "version": 3
   },
   "file_extension": ".py",
   "mimetype": "text/x-python",
   "name": "python",
   "nbconvert_exporter": "python",
   "pygments_lexer": "ipython3",
   "version": "3.11.7"
  }
 },
 "nbformat": 4,
 "nbformat_minor": 2
}
